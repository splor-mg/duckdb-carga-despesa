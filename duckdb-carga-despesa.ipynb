{
 "cells": [
  {
   "cell_type": "markdown",
   "id": "e5135171",
   "metadata": {},
   "source": [
    "# CARGA DOS DADOS DE DESPESA DO PORTAL DADOS MG\n",
    "\n",
    "Script notebook para carga inicial de dados do portal [dados.mg](https://dados.mg.gov.br/dataset/despesa) para criação do spreadmart financeiro da Assessoria de Dados da SCPO/SEPLAG\n",
    "  \n",
    "  Desenvolvedor: Andrey Morais Labanca  \n",
    "  Contato: moraislabanca@gmail.com  \n",
    "\n",
    "## TO DO\n",
    "1. Clausulas SQL para somente criar ou deletar tabelas caso não já exisitam\n",
    "1. Tratamento de erros e exceções para quando não for possível criar ou conectar na base de dados, criar ou deletar tabelas e etc.\n",
    "1. Atualmente usando pandas para concatenação de tabelas. Ineficiente e utiliza muita memória. Necessário trocar para algo relativo a SQL, DuckDB ou que vá concantenando parcialmente em disco sem carregar tudo para memória.\n",
    "1. ERRO: \"The kernel appears to have died. It will restart automatically\". Recriar o env e ver se resolve. Se não testar bibliotecas separadamente e ver se acha um erro executando alguma função delas"
   ]
  },
  {
   "cell_type": "markdown",
   "id": "9af3108e",
   "metadata": {},
   "source": [
    "## Imports, constants e setup"
   ]
  },
  {
   "cell_type": "code",
   "execution_count": 2,
   "id": "ef3a463a",
   "metadata": {},
   "outputs": [],
   "source": [
    "import pandas as pd\n",
    "import glob\n",
    "import time\n",
    "import duckdb\n",
    "import os\n",
    "\n",
    "DB_NAME = 'database/dadosmg.db'\n",
    "CSV_PATH = 'datasets/'\n",
    "\n",
    "# obtem lista de paths para arquivos CSV localizados no caminho CSV_PATH\n",
    "file_paths = [i.replace('\\\\', '/') for i in list(glob.iglob(f'{CSV_PATH}*.csv'))]\n",
    "\n",
    "# paths de bases csv que sao separadas por anos\n",
    "file_paths_desp = [x for x in file_paths if \"dm_empenho_desp_\" in x] \n",
    "file_paths_ft = [x for x in file_paths if \"ft_despesa_\" in x] \n",
    "\n",
    "# paths de bases csv que não são separadas por anos\n",
    "file_paths = list(set(file_paths) - set(file_paths_desp) - set(file_paths_ft))\n",
    "\n",
    "\n",
    "con = duckdb.connect(DB_NAME) #Cria se não existe e se conecta à base de dados"
   ]
  },
  {
   "cell_type": "markdown",
   "id": "ae4bed17",
   "metadata": {},
   "source": [
    "## Excluir tabelas existentes\n",
    "### Exclui tabelas existentes caso DROP_TABLES = True"
   ]
  },
  {
   "cell_type": "code",
   "execution_count": 4,
   "id": "1199c3ec",
   "metadata": {},
   "outputs": [
    {
     "name": "stdout",
     "output_type": "stream",
     "text": [
      "Tabela ('dm_acao',) apagada.\n",
      "Tabela ('dm_categ_econ',) apagada.\n",
      "Tabela ('dm_elemento_desp',) apagada.\n",
      "Tabela ('dm_favorecido',) apagada.\n",
      "Tabela ('dm_fonte',) apagada.\n",
      "Tabela ('dm_funcao_desp',) apagada.\n",
      "Tabela ('dm_grupo_desp',) apagada.\n",
      "Tabela ('dm_item_desp',) apagada.\n",
      "Tabela ('dm_procedencia',) apagada.\n",
      "Tabela ('dm_programa',) apagada.\n",
      "Tabela ('dm_situacao_op_desp',) apagada.\n",
      "Tabela ('dm_tipo_documento',) apagada.\n"
     ]
    }
   ],
   "source": [
    "DROP_TABLES = True\n",
    "\n",
    "if DROP_TABLES:\n",
    "    if con.execute(\"\"\"SHOW TABLES\"\"\").fetchall():\n",
    "        for table_name in con.execute(\"SHOW TABLES\").fetchall():\n",
    "            con.execute(f\"\"\"DROP TABLE {table_name[0]} \"\"\")\n",
    "            print(f\"Tabela {table_name} apagada.\")\n",
    "    else:\n",
    "        print(f\"Não há tabelas na database {DB_NAME}\")\n",
    "\n"
   ]
  },
  {
   "cell_type": "markdown",
   "id": "2bca1743",
   "metadata": {},
   "source": [
    "## Importa dados de despesa e cria tabelas"
   ]
  },
  {
   "cell_type": "code",
   "execution_count": null,
   "id": "1dde4936",
   "metadata": {},
   "outputs": [
    {
     "name": "stdout",
     "output_type": "stream",
     "text": [
      "Arquivo datasets/dm_item_desp.csv carregado para tabela dm_item_desp\n",
      "Arquivo datasets/dm_acao.csv carregado para tabela dm_acao\n",
      "Arquivo datasets/dm_elemento_desp.csv carregado para tabela dm_elemento_desp\n",
      "Arquivo datasets/dm_categ_econ.csv carregado para tabela dm_categ_econ\n",
      "Arquivo datasets/dm_tipo_documento.csv carregado para tabela dm_tipo_documento\n",
      "Arquivo datasets/dm_fonte.csv carregado para tabela dm_fonte\n"
     ]
    }
   ],
   "source": [
    "#Importa CSV das bases não separadas por anos e cria respectivas tabelas\n",
    "for file in file_paths:\n",
    "    _ , tail = os.path.split(file)\n",
    "    name , file_extension = os.path.splitext(tail)\n",
    "    con.execute(f\"\"\"CREATE TABLE '{name}' AS SELECT * FROM read_csv_auto('{file}')\"\"\")\n",
    "    print(f\"Arquivo {file} carregado para tabela {name}\")"
   ]
  },
  {
   "cell_type": "markdown",
   "id": "979271b8",
   "metadata": {},
   "source": [
    "## Descreve tabelas criadas"
   ]
  },
  {
   "cell_type": "code",
   "execution_count": 3,
   "id": "ea991ae3",
   "metadata": {},
   "outputs": [
    {
     "data": {
      "text/plain": [
       "┌───────────────────┬──────────────────────────────────────────────┬───────────────────────────────────┬───────────┐\n",
       "│    table_name     │                 column_names                 │           column_types            │ temporary │\n",
       "│      varchar      │                  varchar[]                   │             varchar[]             │  boolean  │\n",
       "├───────────────────┼──────────────────────────────────────────────┼───────────────────────────────────┼───────────┤\n",
       "│ dm_acao           │ [id_acao, ano_exercicio, cd_acao, nome]      │ [BIGINT, BIGINT, BIGINT, VARCHAR] │ false     │\n",
       "│ dm_categ_econ     │ [id_categ_econ, cd_categ_econ, nome]         │ [BIGINT, BIGINT, VARCHAR]         │ false     │\n",
       "│ dm_elemento_desp  │ [id_elemento, cd_elemento, nome]             │ [BIGINT, BIGINT, VARCHAR]         │ false     │\n",
       "│ dm_fonte          │ [id_fonte, cd_fonte, nome]                   │ [BIGINT, BIGINT, VARCHAR]         │ false     │\n",
       "│ dm_item_desp      │ [id_item, cd_item, nome]                     │ [BIGINT, BIGINT, VARCHAR]         │ false     │\n",
       "│ dm_tipo_documento │ [id_tipo_documento, cd_tipo_documento, nome] │ [BIGINT, BIGINT, VARCHAR]         │ false     │\n",
       "└───────────────────┴──────────────────────────────────────────────┴───────────────────────────────────┴───────────┘"
      ]
     },
     "execution_count": 3,
     "metadata": {},
     "output_type": "execute_result"
    }
   ],
   "source": [
    "con.sql(\"\"\"DESCRIBE\"\"\")"
   ]
  },
  {
   "cell_type": "markdown",
   "id": "4c5d758c",
   "metadata": {},
   "source": [
    "## Agrega arquivos de empenho anuais e cria tabela"
   ]
  },
  {
   "cell_type": "code",
   "execution_count": null,
   "id": "21b38cc6",
   "metadata": {},
   "outputs": [],
   "source": [
    "tbl_agg_name = 'dm_empenho_desp'\n",
    "df_agg = pd.DataFrame()\n",
    "num_linhas = 0\n",
    "\n",
    "for file in file_paths_desp:\n",
    "    print(f'Lendo:', file)\n",
    "    df1 = con.execute(f\"\"\"SELECT * FROM '{file}' \"\"\").df()\n",
    "    df_agg = pd.concat([df_agg, df1])\n",
    "    num_linhas += len(df1)\n",
    "      \n",
    "con.execute(f\"\"\"CREATE TABLE '{tbl_agg_name}' AS SELECT * FROM df_agg \"\"\") \n",
    "print(f'Tabela {tbl_agg_name} criada')\n",
    "\n",
    "print('Total de linhas tabelas lidas:', num_linhas)\n",
    "print('Total de linhas do dataframe concatenado:', len(df_agg))\n",
    "print('Num linhas da tabela agregada:')\n",
    "print(con.sql(f\"\"\"SELECT COUNT(*) FROM {tbl_agg_name}\"\"\"))\n",
    "\n",
    "con.table(tbl_agg_name).show()"
   ]
  },
  {
   "cell_type": "markdown",
   "id": "aaeca66c",
   "metadata": {},
   "source": [
    "## Agrega arquivos de faturamento anuais e cria tabela"
   ]
  },
  {
   "cell_type": "code",
   "execution_count": null,
   "id": "84289fb0",
   "metadata": {},
   "outputs": [],
   "source": [
    "tbl_agg_name = 'ft_despesa'\n",
    "df_agg = pd.DataFrame()\n",
    "num_linhas = 0\n",
    "\n",
    "temp_csv = con.sql(f\"\"\"SELECT * FROM '{CSV_PATH}ft_despesa_2002.csv' LIMIT 10 \"\"\")\n",
    "\n",
    "# cria lista contendo nomes e tipos das colunas lidas em temp_csv \n",
    "table_columns = [str(temp_csv.columns[i] +' '+ temp_csv.dtypes[i]) for i in range(len(temp_csv.columns))]\n",
    "\n",
    "# Concatena lista de strings em uma string somente para uso na criação da tabela nova.\n",
    "table_columns =  ', '.join(table_columns)\n",
    "\n",
    "# Cria tabela para agregar arquivos CSV de faturamento\n",
    "#con.execute(f\"\"\"CREATE TABLE '{tbl_agg_name}'({table_columns}) \"\"\")\n",
    "print(f'Tabela {tbl_agg_name} criada')\n",
    "\n",
    "\n",
    "for file in file_paths_ft:\n",
    "    print(f'Lendo:', file)\n",
    "    df1 = con.execute(f\"\"\"SELECT * FROM '{file}' \"\"\").df()\n",
    "    con.execute(f\"\"\"INSERT INTO '{tbl_agg_name}' SELECT * FROM df1\"\"\")\n",
    "    print(f'Arquivo {file} concatenado na tabela {tbl_agg_name}')\n",
    "    num_linhas += len(df1)\n",
    "      \n",
    "print('Total de linhas tabelas lidas:', num_linhas)\n",
    "print('Num linhas da tabela agregada:')\n",
    "print(con.sql(f\"\"\"SELECT COUNT(*) FROM {tbl_agg_name}\"\"\"))\n",
    "\n",
    "con.table(tbl_agg_name).show()"
   ]
  },
  {
   "cell_type": "code",
   "execution_count": null,
   "id": "126a8e06",
   "metadata": {},
   "outputs": [],
   "source": [
    "tbl_agg_name = 'ft_despesa'\n",
    "temp_csv = con.sql(f\"\"\"SELECT * FROM '{CSV_PATH}ft_despesa_2002.csv' LIMIT 10 \"\"\")\n",
    "\n",
    "# cria lista contendo nomes e tipos das colunas lidas em temp_csv\n",
    "table_columns = [str(temp_csv.columns[i] +' '+ temp_csv.dtypes[i]) for i in range(len(temp_csv.columns))]\n",
    "\n",
    "# Concatena lista de strings em uma string somente para uso na criação da tabela nova.\n",
    "table_columns =  ', '.join(table_columns)\n",
    "\n",
    "# Cria tabela para agregar arquivos CSV de faturamento\n",
    "con.execute(f\"\"\"CREATE TABLE '{tbl_agg_name}'({table_columns}) \"\"\")\n",
    "print(f'Tabela {tbl_agg_name} criada')"
   ]
  },
  {
   "cell_type": "code",
   "execution_count": null,
   "id": "831b0f93",
   "metadata": {},
   "outputs": [],
   "source": [
    "con.sql(f\"\"\"SELECT * FROM '{tbl_agg_name}'\"\"\")"
   ]
  },
  {
   "cell_type": "code",
   "execution_count": null,
   "id": "9a7b266d",
   "metadata": {},
   "outputs": [],
   "source": [
    "\n",
    "file = f'{CSV_PATH}ft_despesa_2002.csv'\n",
    "\n",
    "con.execute(f\"\"\"COPY {tbl_agg_name} FROM '{file}' ( DELIMITER ';', HEADER )\"\"\")\n",
    "con.sql(f\"\"\"SELECT * FROM '{file}' LIMIT 10 \"\"\")\n",
    "\n",
    "#con.execute(f\"\"\"INSERT INTO '{tbl_agg_name}' SELECT * FROM read_csv_auto({file})\"\"\")"
   ]
  }
 ],
 "metadata": {
  "kernelspec": {
   "display_name": "Python 3 (ipykernel)",
   "language": "python",
   "name": "python3"
  },
  "language_info": {
   "codemirror_mode": {
    "name": "ipython",
    "version": 3
   },
   "file_extension": ".py",
   "mimetype": "text/x-python",
   "name": "python",
   "nbconvert_exporter": "python",
   "pygments_lexer": "ipython3",
   "version": "3.11.2"
  }
 },
 "nbformat": 4,
 "nbformat_minor": 5
}
