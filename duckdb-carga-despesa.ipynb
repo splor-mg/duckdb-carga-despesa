{
 "cells": [
  {
   "cell_type": "markdown",
   "id": "e5135171",
   "metadata": {},
   "source": [
    "# CARGA DOS DADOS DE DESPESA DO PORTAL DADOS MG\n",
    "\n",
    "Script notebook para carga inicial de dados do portal [dados.mg](https://dados.mg.gov.br/dataset/despesa) para criação do spreadmart financeiro da Assessoria de Dados da SCPO/SEPLAG\n",
    "  \n",
    "  Desenvolvedor: Andrey Morais Labanca  \n",
    "  Contato: moraislabanca@gmail.com  \n",
    "\n",
    "## TO DO\n",
    "1. Clausulas SQL para somente criar ou deletar tabelas caso não já exisitam\n",
    "1. Tratamento de erros e exceções para quando não for possível criar ou conectar na base de dados, criar ou deletar tabelas e etc.\n",
    "1. Atualmente usando pandas para concatenação de tabelas. Ineficiente e utiliza muita memória. Necessário trocar para algo relativo a SQL, DuckDB ou que vá concantenando parcialmente em disco sem carregar tudo para memória."
   ]
  },
  {
   "cell_type": "markdown",
   "id": "9af3108e",
   "metadata": {},
   "source": [
    "## Imports, constants e setup"
   ]
  },
  {
   "cell_type": "code",
   "execution_count": 1,
   "id": "ef3a463a",
   "metadata": {},
   "outputs": [],
   "source": [
    "import pandas as pd\n",
    "import glob\n",
    "import time\n",
    "import duckdb\n",
    "import os\n",
    "\n",
    "DB_NAME = 'database/dadosmg.db'\n",
    "CSV_PATH = 'datasets/'\n",
    "\n",
    "# obtem lista de paths para arquivos CSV localizados no caminho CSV_PATH\n",
    "file_paths = [i.replace('\\\\', '/') for i in list(glob.iglob(f'{CSV_PATH}*.csv'))]\n",
    "\n",
    "# paths de bases csv que sao separadas por anos\n",
    "file_paths_desp = [x for x in file_paths if \"dm_empenho_desp_\" in x] \n",
    "file_paths_ft = [x for x in file_paths if \"ft_despesa_\" in x] \n",
    "\n",
    "# paths de bases csv que não são separadas por anos\n",
    "file_paths = list(set(file_paths) - set(file_paths_desp) - set(file_paths_ft))\n",
    "\n",
    "\n",
    "con = duckdb.connect(DB_NAME) #Cria se não existe e se conecta à base de dados"
   ]
  },
  {
   "cell_type": "markdown",
   "id": "2bca1743",
   "metadata": {},
   "source": [
    "## Importa dados de despesa e cria tabelas\n",
    "### Exclui bases que são separadas por anos."
   ]
  },
  {
   "cell_type": "code",
   "execution_count": 8,
   "id": "1dde4936",
   "metadata": {},
   "outputs": [
    {
     "data": {
      "text/plain": [
       "['datasets/ft_despesa_2002.csv',\n",
       " 'datasets/ft_despesa_2003.csv',\n",
       " 'datasets/ft_despesa_2004.csv',\n",
       " 'datasets/ft_despesa_2005.csv',\n",
       " 'datasets/ft_despesa_2006.csv',\n",
       " 'datasets/ft_despesa_2007.csv',\n",
       " 'datasets/ft_despesa_2008.csv',\n",
       " 'datasets/ft_despesa_2009.csv',\n",
       " 'datasets/ft_despesa_2010.csv',\n",
       " 'datasets/ft_despesa_2011.csv',\n",
       " 'datasets/ft_despesa_2012.csv',\n",
       " 'datasets/ft_despesa_2013.csv',\n",
       " 'datasets/ft_despesa_2014.csv',\n",
       " 'datasets/ft_despesa_2015.csv',\n",
       " 'datasets/ft_despesa_2016.csv',\n",
       " 'datasets/ft_despesa_2018.csv',\n",
       " 'datasets/ft_despesa_2020.csv',\n",
       " 'datasets/ft_despesa_2022.csv',\n",
       " 'datasets/ft_despesa_2023.csv']"
      ]
     },
     "execution_count": 8,
     "metadata": {},
     "output_type": "execute_result"
    }
   ],
   "source": [
    "\n",
    "\n",
    "#Importa CSV das bases não separadas por anos e cria respectivas tabelas\n",
    "for file in file_paths:\n",
    "    _ , tail = os.path.split(file)\n",
    "    name , file_extension = os.path.splitext(tail)\n",
    "    con.execute(f\"\"\"CREATE TABLE '{name}' AS SELECT * FROM read_csv_auto('{file}')\"\"\")\n",
    "    print(f\"Arquivo {file} carregado para tabela {name}\")"
   ]
  },
  {
   "cell_type": "markdown",
   "id": "979271b8",
   "metadata": {},
   "source": [
    "## Descreve tabelas criadas"
   ]
  },
  {
   "cell_type": "code",
   "execution_count": 5,
   "id": "ea991ae3",
   "metadata": {},
   "outputs": [
    {
     "data": {
      "text/plain": [
       "┌─────────────────────┬───────────────────────────────────┬────────────────────────────────────────────────┬───────────┐\n",
       "│     table_name      │           column_names            │                  column_types                  │ temporary │\n",
       "│       varchar       │             varchar[]             │                   varchar[]                    │  boolean  │\n",
       "├─────────────────────┼───────────────────────────────────┼────────────────────────────────────────────────┼───────────┤\n",
       "│ dm_acao             │ [id_acao, ano_exercicio, cd_aca…  │ [BIGINT, BIGINT, BIGINT, VARCHAR]              │ false     │\n",
       "│ dm_elemento_desp    │ [id_elemento, cd_elemento, nome]  │ [BIGINT, BIGINT, VARCHAR]                      │ false     │\n",
       "│ dm_fonte            │ [id_fonte, cd_fonte, nome]        │ [BIGINT, BIGINT, VARCHAR]                      │ false     │\n",
       "│ dm_funcao_desp      │ [id_funcao, ano_exercicio, cd_f…  │ [BIGINT, BIGINT, BIGINT, VARCHAR]              │ false     │\n",
       "│ dm_item_desp        │ [id_item, cd_item, nome]          │ [BIGINT, BIGINT, VARCHAR]                      │ false     │\n",
       "│ dm_modalidade_aplic │ [id_modalidade_aplic, cd_modali…  │ [BIGINT, BIGINT, VARCHAR]                      │ false     │\n",
       "│ dm_procedencia      │ [id_procedencia, cd_procedencia…  │ [BIGINT, BIGINT, VARCHAR]                      │ false     │\n",
       "│ dm_programa         │ [id_programa, ano_exercicio, cd…  │ [BIGINT, BIGINT, BIGINT, VARCHAR]              │ false     │\n",
       "│ dm_situacao_op_desp │ [id_situacao_op, cd_situacao_op…  │ [BIGINT, BIGINT, VARCHAR]                      │ false     │\n",
       "│ dm_tempo_diario     │ [id_tempo, data_iso, dia, mes, …  │ [BIGINT, BIGINT, BIGINT, BIGINT, BIGINT, DATE] │ false     │\n",
       "│ dm_tipo_documento   │ [id_tipo_documento, cd_tipo_doc…  │ [BIGINT, BIGINT, VARCHAR]                      │ false     │\n",
       "├─────────────────────┴───────────────────────────────────┴────────────────────────────────────────────────┴───────────┤\n",
       "│ 11 rows                                                                                                    4 columns │\n",
       "└──────────────────────────────────────────────────────────────────────────────────────────────────────────────────────┘"
      ]
     },
     "execution_count": 5,
     "metadata": {},
     "output_type": "execute_result"
    }
   ],
   "source": [
    "con.sql(\"\"\"DESCRIBE\"\"\")"
   ]
  },
  {
   "cell_type": "markdown",
   "id": "4c5d758c",
   "metadata": {},
   "source": [
    "## Agrega arquivos de empenho anuais e cria tabela"
   ]
  },
  {
   "cell_type": "code",
   "execution_count": 2,
   "id": "21b38cc6",
   "metadata": {},
   "outputs": [
    {
     "ename": "NameError",
     "evalue": "name 'file_paths_desp' is not defined",
     "output_type": "error",
     "traceback": [
      "\u001b[1;31m---------------------------------------------------------------------------\u001b[0m",
      "\u001b[1;31mNameError\u001b[0m                                 Traceback (most recent call last)",
      "Cell \u001b[1;32mIn[2], line 5\u001b[0m\n\u001b[0;32m      2\u001b[0m df_agg \u001b[38;5;241m=\u001b[39m pd\u001b[38;5;241m.\u001b[39mDataFrame()\n\u001b[0;32m      3\u001b[0m num_linhas \u001b[38;5;241m=\u001b[39m \u001b[38;5;241m0\u001b[39m\n\u001b[1;32m----> 5\u001b[0m \u001b[38;5;28;01mfor\u001b[39;00m file \u001b[38;5;129;01min\u001b[39;00m \u001b[43mfile_paths_desp\u001b[49m:\n\u001b[0;32m      6\u001b[0m     \u001b[38;5;28mprint\u001b[39m(\u001b[38;5;124mf\u001b[39m\u001b[38;5;124m'\u001b[39m\u001b[38;5;124mLendo:\u001b[39m\u001b[38;5;124m'\u001b[39m, file)\n\u001b[0;32m      7\u001b[0m     df1 \u001b[38;5;241m=\u001b[39m con\u001b[38;5;241m.\u001b[39mexecute(\u001b[38;5;124mf\u001b[39m\u001b[38;5;124m\"\"\"\u001b[39m\u001b[38;5;124mSELECT * FROM \u001b[39m\u001b[38;5;124m'\u001b[39m\u001b[38;5;132;01m{\u001b[39;00mfile\u001b[38;5;132;01m}\u001b[39;00m\u001b[38;5;124m'\u001b[39m\u001b[38;5;124m \u001b[39m\u001b[38;5;124m\"\"\"\u001b[39m)\u001b[38;5;241m.\u001b[39mdf()\n",
      "\u001b[1;31mNameError\u001b[0m: name 'file_paths_desp' is not defined"
     ]
    }
   ],
   "source": [
    "tbl_agg_name = 'dm_empenho_desp'\n",
    "df_agg = pd.DataFrame()\n",
    "num_linhas = 0\n",
    "\n",
    "for file in file_paths_desp:\n",
    "    print(f'Lendo:', file)\n",
    "    df1 = con.execute(f\"\"\"SELECT * FROM '{file}' \"\"\").df()\n",
    "    df_agg = pd.concat([df_agg, df1])\n",
    "    num_linhas += len(df1)\n",
    "      \n",
    "con.execute(f\"\"\"CREATE TABLE '{tbl_agg_name}' AS SELECT * FROM df_agg \"\"\") \n",
    "print(f'Tabela {tbl_agg_name} criada')\n",
    "\n",
    "print('Total de linhas tabelas lidas:', num_linhas)\n",
    "print('Total de linhas do dataframe concatenado:', len(df_agg))\n",
    "print('Num linhas da tabela agregada:')\n",
    "print(con.sql(f\"\"\"SELECT COUNT(*) FROM {tbl_agg_name}\"\"\"))\n",
    "\n",
    "con.table(tbl_agg_name).show()"
   ]
  },
  {
   "cell_type": "markdown",
   "id": "aaeca66c",
   "metadata": {},
   "source": [
    "## Agrega arquivos de faturamento anuais e cria tabela"
   ]
  },
  {
   "cell_type": "code",
   "execution_count": null,
   "id": "84289fb0",
   "metadata": {},
   "outputs": [
    {
     "name": "stdout",
     "output_type": "stream",
     "text": [
      "Lendo: datasets/ft_despesa_2002.csv\n",
      "Lendo: datasets/ft_despesa_2003.csv\n",
      "Lendo: datasets/ft_despesa_2004.csv\n",
      "Lendo: datasets/ft_despesa_2005.csv\n",
      "Lendo: datasets/ft_despesa_2006.csv\n",
      "Lendo: datasets/ft_despesa_2007.csv\n",
      "Lendo: datasets/ft_despesa_2008.csv\n",
      "Lendo: datasets/ft_despesa_2009.csv\n",
      "Lendo: datasets/ft_despesa_2010.csv\n",
      "Lendo: datasets/ft_despesa_2011.csv\n",
      "Lendo: datasets/ft_despesa_2012.csv\n",
      "Lendo: datasets/ft_despesa_2013.csv\n",
      "Lendo: datasets/ft_despesa_2014.csv\n",
      "Lendo: datasets/ft_despesa_2015.csv\n",
      "Lendo: datasets/ft_despesa_2016.csv\n",
      "Lendo: datasets/ft_despesa_2018.csv\n",
      "Lendo: datasets/ft_despesa_2020.csv\n",
      "Lendo: datasets/ft_despesa_2022.csv\n",
      "Lendo: datasets/ft_despesa_2023.csv\n"
     ]
    }
   ],
   "source": [
    "tbl_agg_name = 'ft_despesa'\n",
    "df_agg = pd.DataFrame()\n",
    "num_linhas = 0\n",
    "\n",
    "for file in file_paths_ft:\n",
    "    print(f'Lendo:', file)\n",
    "    df1 = con.execute(f\"\"\"SELECT * FROM '{file}' \"\"\").df()\n",
    "    df_agg = pd.concat([df_agg, df1])\n",
    "    num_linhas += len(df1)\n",
    "      \n",
    "con.execute(f\"\"\"CREATE TABLE '{tbl_agg_name}' AS SELECT * FROM df_agg \"\"\") \n",
    "print(f'Tabela {tbl_agg_name} criada')\n",
    "\n",
    "print('Total de linhas tabelas lidas:', num_linhas)\n",
    "print('Total de linhas do dataframe concatenado:', len(df_agg))\n",
    "print('Num linhas da tabela agregada:')\n",
    "print(con.sql(f\"\"\"SELECT COUNT(*) FROM {tbl_agg_name}\"\"\"))\n",
    "\n",
    "con.table(tbl_agg_name).show()"
   ]
  }
 ],
 "metadata": {
  "kernelspec": {
   "display_name": "Python 3 (ipykernel)",
   "language": "python",
   "name": "python3"
  },
  "language_info": {
   "codemirror_mode": {
    "name": "ipython",
    "version": 3
   },
   "file_extension": ".py",
   "mimetype": "text/x-python",
   "name": "python",
   "nbconvert_exporter": "python",
   "pygments_lexer": "ipython3",
   "version": "3.11.2"
  }
 },
 "nbformat": 4,
 "nbformat_minor": 5
}
